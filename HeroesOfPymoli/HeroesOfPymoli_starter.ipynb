{
 "cells": [
  {
   "cell_type": "markdown",
   "metadata": {},
   "source": [
    "### Note\n",
    "* Instructions have been included for each segment. You do not have to follow them exactly, but they are included to help you think through the steps."
   ]
  },
  {
   "cell_type": "code",
   "execution_count": 2,
   "metadata": {},
   "outputs": [],
   "source": [
    "# Dependencies and Setup\n",
    "import pandas as pd\n",
    "\n",
    "# File to Load (Remember to Change These)\n",
    "file_to_load = \"Resources/purchase_data.csv\"\n",
    "\n",
    "# Read Purchasing File and store into Pandas data frame\n",
    "purchase_data = pd.read_csv(file_to_load)"
   ]
  },
  {
   "cell_type": "markdown",
   "metadata": {},
   "source": [
    "## Player Count"
   ]
  },
  {
   "cell_type": "markdown",
   "metadata": {},
   "source": [
    "* Display the total number of players\n"
   ]
  },
  {
   "cell_type": "code",
   "execution_count": 3,
   "metadata": {},
   "outputs": [
    {
     "data": {
      "text/html": [
       "<div>\n",
       "<style scoped>\n",
       "    .dataframe tbody tr th:only-of-type {\n",
       "        vertical-align: middle;\n",
       "    }\n",
       "\n",
       "    .dataframe tbody tr th {\n",
       "        vertical-align: top;\n",
       "    }\n",
       "\n",
       "    .dataframe thead th {\n",
       "        text-align: right;\n",
       "    }\n",
       "</style>\n",
       "<table border=\"1\" class=\"dataframe\">\n",
       "  <thead>\n",
       "    <tr style=\"text-align: right;\">\n",
       "      <th></th>\n",
       "      <th>Total Players</th>\n",
       "    </tr>\n",
       "  </thead>\n",
       "  <tbody>\n",
       "    <tr>\n",
       "      <th>0</th>\n",
       "      <td>576</td>\n",
       "    </tr>\n",
       "  </tbody>\n",
       "</table>\n",
       "</div>"
      ],
      "text/plain": [
       "   Total Players\n",
       "0            576"
      ]
     },
     "execution_count": 3,
     "metadata": {},
     "output_type": "execute_result"
    }
   ],
   "source": [
    "player_count = pd.DataFrame({\"Total Players\":[len(list(purchase_data[\"SN\"].unique()))]})\n",
    "player_count"
   ]
  },
  {
   "cell_type": "markdown",
   "metadata": {},
   "source": [
    "## Purchasing Analysis (Total)"
   ]
  },
  {
   "cell_type": "markdown",
   "metadata": {},
   "source": [
    "* Run basic calculations to obtain number of unique items, average price, etc.\n",
    "\n",
    "\n",
    "* Create a summary data frame to hold the results\n",
    "\n",
    "\n",
    "* Optional: give the displayed data cleaner formatting\n",
    "\n",
    "\n",
    "* Display the summary data frame\n"
   ]
  },
  {
   "cell_type": "code",
   "execution_count": 4,
   "metadata": {
    "scrolled": true
   },
   "outputs": [
    {
     "data": {
      "text/html": [
       "<style type=\"text/css\">\n",
       "</style>\n",
       "<table id=\"T_28fb2\">\n",
       "  <thead>\n",
       "    <tr>\n",
       "      <th class=\"blank level0\" >&nbsp;</th>\n",
       "      <th id=\"T_28fb2_level0_col0\" class=\"col_heading level0 col0\" >Number of Unique Items</th>\n",
       "      <th id=\"T_28fb2_level0_col1\" class=\"col_heading level0 col1\" >Average Price</th>\n",
       "      <th id=\"T_28fb2_level0_col2\" class=\"col_heading level0 col2\" >Number of Purchases</th>\n",
       "      <th id=\"T_28fb2_level0_col3\" class=\"col_heading level0 col3\" >Total Revenue</th>\n",
       "    </tr>\n",
       "  </thead>\n",
       "  <tbody>\n",
       "    <tr>\n",
       "      <th id=\"T_28fb2_level0_row0\" class=\"row_heading level0 row0\" >0</th>\n",
       "      <td id=\"T_28fb2_row0_col0\" class=\"data row0 col0\" >179</td>\n",
       "      <td id=\"T_28fb2_row0_col1\" class=\"data row0 col1\" >$3.05</td>\n",
       "      <td id=\"T_28fb2_row0_col2\" class=\"data row0 col2\" >780</td>\n",
       "      <td id=\"T_28fb2_row0_col3\" class=\"data row0 col3\" >$2,379.77</td>\n",
       "    </tr>\n",
       "  </tbody>\n",
       "</table>\n"
      ],
      "text/plain": [
       "<pandas.io.formats.style.Styler at 0x113d2943910>"
      ]
     },
     "execution_count": 4,
     "metadata": {},
     "output_type": "execute_result"
    }
   ],
   "source": [
    "num_item = len(list(purchase_data[\"Item Name\"].unique()))\n",
    "num_purchases = sum(purchase_data[\"Item Name\"].value_counts())\n",
    "avg_price = purchase_data[\"Price\"].mean()\n",
    "total_revenue = sum(purchase_data[\"Price\"])\n",
    "purchase_analysis_df = pd.DataFrame({'Number of Unique Items': [num_item],\n",
    "                                    'Average Price': [avg_price],\n",
    "                                    'Number of Purchases':[num_purchases],\n",
    "                                    'Total Revenue': [total_revenue]\n",
    "})\n",
    "purchase_analysis_df.style.format({'Average Price':\"${:,.2f}\", 'Total Revenue': '${:,.2f}'})"
   ]
  },
  {
   "cell_type": "markdown",
   "metadata": {},
   "source": [
    "## Gender Demographics"
   ]
  },
  {
   "cell_type": "markdown",
   "metadata": {},
   "source": [
    "* Percentage and Count of Male Players\n",
    "\n",
    "\n",
    "* Percentage and Count of Female Players\n",
    "\n",
    "\n",
    "* Percentage and Count of Other / Non-Disclosed\n",
    "\n",
    "\n"
   ]
  },
  {
   "cell_type": "code",
   "execution_count": 5,
   "metadata": {},
   "outputs": [
    {
     "data": {
      "text/html": [
       "<style type=\"text/css\">\n",
       "</style>\n",
       "<table id=\"T_b4ed0\">\n",
       "  <thead>\n",
       "    <tr>\n",
       "      <th class=\"blank level0\" >&nbsp;</th>\n",
       "      <th id=\"T_b4ed0_level0_col0\" class=\"col_heading level0 col0\" >Total Count</th>\n",
       "      <th id=\"T_b4ed0_level0_col1\" class=\"col_heading level0 col1\" >Percentage of Players</th>\n",
       "    </tr>\n",
       "    <tr>\n",
       "      <th class=\"index_name level0\" >Gender</th>\n",
       "      <th class=\"blank col0\" >&nbsp;</th>\n",
       "      <th class=\"blank col1\" >&nbsp;</th>\n",
       "    </tr>\n",
       "  </thead>\n",
       "  <tbody>\n",
       "    <tr>\n",
       "      <th id=\"T_b4ed0_level0_row0\" class=\"row_heading level0 row0\" >Male</th>\n",
       "      <td id=\"T_b4ed0_row0_col0\" class=\"data row0 col0\" >484</td>\n",
       "      <td id=\"T_b4ed0_row0_col1\" class=\"data row0 col1\" >84.03%</td>\n",
       "    </tr>\n",
       "    <tr>\n",
       "      <th id=\"T_b4ed0_level0_row1\" class=\"row_heading level0 row1\" >Female</th>\n",
       "      <td id=\"T_b4ed0_row1_col0\" class=\"data row1 col0\" >81</td>\n",
       "      <td id=\"T_b4ed0_row1_col1\" class=\"data row1 col1\" >14.06%</td>\n",
       "    </tr>\n",
       "    <tr>\n",
       "      <th id=\"T_b4ed0_level0_row2\" class=\"row_heading level0 row2\" >Other / Non-Disclosed</th>\n",
       "      <td id=\"T_b4ed0_row2_col0\" class=\"data row2 col0\" >11</td>\n",
       "      <td id=\"T_b4ed0_row2_col1\" class=\"data row2 col1\" >1.91%</td>\n",
       "    </tr>\n",
       "  </tbody>\n",
       "</table>\n"
      ],
      "text/plain": [
       "<pandas.io.formats.style.Styler at 0x113d0905880>"
      ]
     },
     "execution_count": 5,
     "metadata": {},
     "output_type": "execute_result"
    }
   ],
   "source": [
    "total_players = len(purchase_data[\"SN\"].value_counts())\n",
    "gender_purchase_df = purchase_data.groupby(\"Gender\")\n",
    "total_count_gender = gender_purchase_df.nunique()[\"SN\"]\n",
    "per_gender = total_count_gender/(total_players) *100\n",
    "\n",
    "# \n",
    "gender_demographics = pd.DataFrame({'Total Count': total_count_gender,\n",
    "                                    'Percentage of Players': per_gender\n",
    "\n",
    "})\n",
    "gender_demographics.sort_values([\"Total Count\"], ascending = False).style.format({\"Percentage of Players\":\"{:.2f}%\"})"
   ]
  },
  {
   "cell_type": "markdown",
   "metadata": {},
   "source": [
    "\n",
    "## Purchasing Analysis (Gender)"
   ]
  },
  {
   "cell_type": "markdown",
   "metadata": {},
   "source": [
    "* Run basic calculations to obtain purchase count, avg. purchase price, avg. purchase total per person etc. by gender\n",
    "\n",
    "\n",
    "\n",
    "\n",
    "* Create a summary data frame to hold the results\n",
    "\n",
    "\n",
    "* Optional: give the displayed data cleaner formatting\n",
    "\n",
    "\n",
    "* Display the summary data frame"
   ]
  },
  {
   "cell_type": "code",
   "execution_count": 6,
   "metadata": {},
   "outputs": [
    {
     "data": {
      "text/html": [
       "<style type=\"text/css\">\n",
       "</style>\n",
       "<table id=\"T_1a1fe\">\n",
       "  <thead>\n",
       "    <tr>\n",
       "      <th class=\"blank level0\" >&nbsp;</th>\n",
       "      <th id=\"T_1a1fe_level0_col0\" class=\"col_heading level0 col0\" >Purchase Count</th>\n",
       "      <th id=\"T_1a1fe_level0_col1\" class=\"col_heading level0 col1\" >Average Purchase Price</th>\n",
       "      <th id=\"T_1a1fe_level0_col2\" class=\"col_heading level0 col2\" >Total Purchase</th>\n",
       "      <th id=\"T_1a1fe_level0_col3\" class=\"col_heading level0 col3\" >Avg Total Purchase per Person</th>\n",
       "    </tr>\n",
       "  </thead>\n",
       "  <tbody>\n",
       "    <tr>\n",
       "      <th id=\"T_1a1fe_level0_row0\" class=\"row_heading level0 row0\" >Female</th>\n",
       "      <td id=\"T_1a1fe_row0_col0\" class=\"data row0 col0\" >113</td>\n",
       "      <td id=\"T_1a1fe_row0_col1\" class=\"data row0 col1\" >$3.20</td>\n",
       "      <td id=\"T_1a1fe_row0_col2\" class=\"data row0 col2\" >$361.94</td>\n",
       "      <td id=\"T_1a1fe_row0_col3\" class=\"data row0 col3\" >$4.47</td>\n",
       "    </tr>\n",
       "    <tr>\n",
       "      <th id=\"T_1a1fe_level0_row1\" class=\"row_heading level0 row1\" >Male</th>\n",
       "      <td id=\"T_1a1fe_row1_col0\" class=\"data row1 col0\" >652</td>\n",
       "      <td id=\"T_1a1fe_row1_col1\" class=\"data row1 col1\" >$3.02</td>\n",
       "      <td id=\"T_1a1fe_row1_col2\" class=\"data row1 col2\" >$1967.64</td>\n",
       "      <td id=\"T_1a1fe_row1_col3\" class=\"data row1 col3\" >$4.07</td>\n",
       "    </tr>\n",
       "    <tr>\n",
       "      <th id=\"T_1a1fe_level0_row2\" class=\"row_heading level0 row2\" >Other / Non-Disclosed</th>\n",
       "      <td id=\"T_1a1fe_row2_col0\" class=\"data row2 col0\" >15</td>\n",
       "      <td id=\"T_1a1fe_row2_col1\" class=\"data row2 col1\" >$3.35</td>\n",
       "      <td id=\"T_1a1fe_row2_col2\" class=\"data row2 col2\" >$50.19</td>\n",
       "      <td id=\"T_1a1fe_row2_col3\" class=\"data row2 col3\" >$4.56</td>\n",
       "    </tr>\n",
       "  </tbody>\n",
       "</table>\n"
      ],
      "text/plain": [
       "<pandas.io.formats.style.Styler at 0x113d0905790>"
      ]
     },
     "execution_count": 6,
     "metadata": {},
     "output_type": "execute_result"
    }
   ],
   "source": [
    "purchase_count = purchase_data[\"Gender\"].value_counts()\n",
    "gen_avg_price = gender_purchase_df[\"Price\"].mean()\n",
    "gen_total_purchase = gender_purchase_df[\"Price\"].sum()\n",
    "gen_avg_purchase_per_person = gen_total_purchase/total_count_gender\n",
    "\n",
    "gen_purchase_analysis_df = pd.DataFrame({'Purchase Count': purchase_count,\n",
    "                                        'Average Purchase Price': gen_avg_price,\n",
    "                                        'Total Purchase':gen_total_purchase,\n",
    "                                        'Avg Total Purchase per Person': gen_avg_purchase_per_person\n",
    "\n",
    "})\n",
    "gen_purchase_analysis_df.style.format({\"Average Purchase Price\": \"${:.2f}\", \n",
    "                                     \"Total Purchase\": \"${:.2f}\",\n",
    "                                     \"Avg Total Purchase per Person\": \"${:.2f}\"})"
   ]
  },
  {
   "cell_type": "markdown",
   "metadata": {},
   "source": [
    "## Age Demographics"
   ]
  },
  {
   "cell_type": "markdown",
   "metadata": {},
   "source": [
    "* Establish bins for ages\n",
    "\n",
    "\n",
    "* Categorize the existing players using the age bins. Hint: use pd.cut()\n",
    "\n",
    "\n",
    "* Calculate the numbers and percentages by age group\n",
    "\n",
    "\n",
    "* Create a summary data frame to hold the results\n",
    "\n",
    "\n",
    "* Optional: round the percentage column to two decimal points\n",
    "\n",
    "\n",
    "* Display Age Demographics Table\n"
   ]
  },
  {
   "cell_type": "code",
   "execution_count": 7,
   "metadata": {},
   "outputs": [
    {
     "data": {
      "text/html": [
       "<style type=\"text/css\">\n",
       "</style>\n",
       "<table id=\"T_fd26c\">\n",
       "  <thead>\n",
       "    <tr>\n",
       "      <th class=\"blank level0\" >&nbsp;</th>\n",
       "      <th id=\"T_fd26c_level0_col0\" class=\"col_heading level0 col0\" >Total Count</th>\n",
       "      <th id=\"T_fd26c_level0_col1\" class=\"col_heading level0 col1\" >Percentage of Players</th>\n",
       "    </tr>\n",
       "    <tr>\n",
       "      <th class=\"index_name level0\" >Age Range</th>\n",
       "      <th class=\"blank col0\" >&nbsp;</th>\n",
       "      <th class=\"blank col1\" >&nbsp;</th>\n",
       "    </tr>\n",
       "  </thead>\n",
       "  <tbody>\n",
       "    <tr>\n",
       "      <th id=\"T_fd26c_level0_row0\" class=\"row_heading level0 row0\" ><10</th>\n",
       "      <td id=\"T_fd26c_row0_col0\" class=\"data row0 col0\" >17</td>\n",
       "      <td id=\"T_fd26c_row0_col1\" class=\"data row0 col1\" >2.95%</td>\n",
       "    </tr>\n",
       "    <tr>\n",
       "      <th id=\"T_fd26c_level0_row1\" class=\"row_heading level0 row1\" >10-14</th>\n",
       "      <td id=\"T_fd26c_row1_col0\" class=\"data row1 col0\" >22</td>\n",
       "      <td id=\"T_fd26c_row1_col1\" class=\"data row1 col1\" >3.82%</td>\n",
       "    </tr>\n",
       "    <tr>\n",
       "      <th id=\"T_fd26c_level0_row2\" class=\"row_heading level0 row2\" >15-19</th>\n",
       "      <td id=\"T_fd26c_row2_col0\" class=\"data row2 col0\" >107</td>\n",
       "      <td id=\"T_fd26c_row2_col1\" class=\"data row2 col1\" >18.58%</td>\n",
       "    </tr>\n",
       "    <tr>\n",
       "      <th id=\"T_fd26c_level0_row3\" class=\"row_heading level0 row3\" >20-24</th>\n",
       "      <td id=\"T_fd26c_row3_col0\" class=\"data row3 col0\" >258</td>\n",
       "      <td id=\"T_fd26c_row3_col1\" class=\"data row3 col1\" >44.79%</td>\n",
       "    </tr>\n",
       "    <tr>\n",
       "      <th id=\"T_fd26c_level0_row4\" class=\"row_heading level0 row4\" >25-29</th>\n",
       "      <td id=\"T_fd26c_row4_col0\" class=\"data row4 col0\" >77</td>\n",
       "      <td id=\"T_fd26c_row4_col1\" class=\"data row4 col1\" >13.37%</td>\n",
       "    </tr>\n",
       "    <tr>\n",
       "      <th id=\"T_fd26c_level0_row5\" class=\"row_heading level0 row5\" >30-34</th>\n",
       "      <td id=\"T_fd26c_row5_col0\" class=\"data row5 col0\" >52</td>\n",
       "      <td id=\"T_fd26c_row5_col1\" class=\"data row5 col1\" >9.03%</td>\n",
       "    </tr>\n",
       "    <tr>\n",
       "      <th id=\"T_fd26c_level0_row6\" class=\"row_heading level0 row6\" >35-39</th>\n",
       "      <td id=\"T_fd26c_row6_col0\" class=\"data row6 col0\" >31</td>\n",
       "      <td id=\"T_fd26c_row6_col1\" class=\"data row6 col1\" >5.38%</td>\n",
       "    </tr>\n",
       "    <tr>\n",
       "      <th id=\"T_fd26c_level0_row7\" class=\"row_heading level0 row7\" >40+</th>\n",
       "      <td id=\"T_fd26c_row7_col0\" class=\"data row7 col0\" >12</td>\n",
       "      <td id=\"T_fd26c_row7_col1\" class=\"data row7 col1\" >2.08%</td>\n",
       "    </tr>\n",
       "  </tbody>\n",
       "</table>\n"
      ],
      "text/plain": [
       "<pandas.io.formats.style.Styler at 0x113d3822a60>"
      ]
     },
     "execution_count": 7,
     "metadata": {},
     "output_type": "execute_result"
    }
   ],
   "source": [
    "bins_age = [ 0, 9.90, 14.90, 19.90, 24.90, 29.90, 34.90, 39.90, 99999]\n",
    "lables_age = [\"<10\",\"10-14\", \"15-19\", \"20-24\", \"25-29\", \"30-34\", \"35-39\", \"40+\" ]\n",
    "purchase_data[\"Age Range\"] = pd.cut(purchase_data[\"Age\"], bins_age, labels=lables_age)\n",
    "age_demographics = purchase_data.groupby(\"Age Range\")\n",
    "total_count_age = age_demographics[\"SN\"].nunique()\n",
    "per_player  = total_count_age/total_players *100\n",
    "age_demographics_df = pd.DataFrame({'Total Count': total_count_age,\n",
    "                                    'Percentage of Players':per_player\n",
    "\n",
    "})\n",
    "age_demographics_df.style.format({\"Percentage of Players\":\"{:,.2f}%\"})"
   ]
  },
  {
   "cell_type": "markdown",
   "metadata": {},
   "source": [
    "## Purchasing Analysis (Age)"
   ]
  },
  {
   "cell_type": "markdown",
   "metadata": {},
   "source": [
    "* Bin the purchase_data data frame by age\n",
    "\n",
    "\n",
    "* Run basic calculations to obtain purchase count, avg. purchase price, avg. purchase total per person etc. in the table below\n",
    "\n",
    "\n",
    "* Create a summary data frame to hold the results\n",
    "\n",
    "\n",
    "* Optional: give the displayed data cleaner formatting\n",
    "\n",
    "\n",
    "* Display the summary data frame"
   ]
  },
  {
   "cell_type": "code",
   "execution_count": 8,
   "metadata": {},
   "outputs": [
    {
     "data": {
      "text/html": [
       "<style type=\"text/css\">\n",
       "</style>\n",
       "<table id=\"T_f20e8\">\n",
       "  <thead>\n",
       "    <tr>\n",
       "      <th class=\"blank level0\" >&nbsp;</th>\n",
       "      <th id=\"T_f20e8_level0_col0\" class=\"col_heading level0 col0\" >Purchase Count</th>\n",
       "      <th id=\"T_f20e8_level0_col1\" class=\"col_heading level0 col1\" >Average Purchase Price</th>\n",
       "      <th id=\"T_f20e8_level0_col2\" class=\"col_heading level0 col2\" >Total Purchase Price</th>\n",
       "    </tr>\n",
       "    <tr>\n",
       "      <th class=\"index_name level0\" >Age Range</th>\n",
       "      <th class=\"blank col0\" >&nbsp;</th>\n",
       "      <th class=\"blank col1\" >&nbsp;</th>\n",
       "      <th class=\"blank col2\" >&nbsp;</th>\n",
       "    </tr>\n",
       "  </thead>\n",
       "  <tbody>\n",
       "    <tr>\n",
       "      <th id=\"T_f20e8_level0_row0\" class=\"row_heading level0 row0\" ><10</th>\n",
       "      <td id=\"T_f20e8_row0_col0\" class=\"data row0 col0\" >23</td>\n",
       "      <td id=\"T_f20e8_row0_col1\" class=\"data row0 col1\" >$3.35</td>\n",
       "      <td id=\"T_f20e8_row0_col2\" class=\"data row0 col2\" >$77.13</td>\n",
       "    </tr>\n",
       "    <tr>\n",
       "      <th id=\"T_f20e8_level0_row1\" class=\"row_heading level0 row1\" >10-14</th>\n",
       "      <td id=\"T_f20e8_row1_col0\" class=\"data row1 col0\" >28</td>\n",
       "      <td id=\"T_f20e8_row1_col1\" class=\"data row1 col1\" >$2.96</td>\n",
       "      <td id=\"T_f20e8_row1_col2\" class=\"data row1 col2\" >$82.78</td>\n",
       "    </tr>\n",
       "    <tr>\n",
       "      <th id=\"T_f20e8_level0_row2\" class=\"row_heading level0 row2\" >15-19</th>\n",
       "      <td id=\"T_f20e8_row2_col0\" class=\"data row2 col0\" >136</td>\n",
       "      <td id=\"T_f20e8_row2_col1\" class=\"data row2 col1\" >$3.04</td>\n",
       "      <td id=\"T_f20e8_row2_col2\" class=\"data row2 col2\" >$412.89</td>\n",
       "    </tr>\n",
       "    <tr>\n",
       "      <th id=\"T_f20e8_level0_row3\" class=\"row_heading level0 row3\" >20-24</th>\n",
       "      <td id=\"T_f20e8_row3_col0\" class=\"data row3 col0\" >365</td>\n",
       "      <td id=\"T_f20e8_row3_col1\" class=\"data row3 col1\" >$3.05</td>\n",
       "      <td id=\"T_f20e8_row3_col2\" class=\"data row3 col2\" >$1114.06</td>\n",
       "    </tr>\n",
       "    <tr>\n",
       "      <th id=\"T_f20e8_level0_row4\" class=\"row_heading level0 row4\" >25-29</th>\n",
       "      <td id=\"T_f20e8_row4_col0\" class=\"data row4 col0\" >101</td>\n",
       "      <td id=\"T_f20e8_row4_col1\" class=\"data row4 col1\" >$2.90</td>\n",
       "      <td id=\"T_f20e8_row4_col2\" class=\"data row4 col2\" >$293.00</td>\n",
       "    </tr>\n",
       "    <tr>\n",
       "      <th id=\"T_f20e8_level0_row5\" class=\"row_heading level0 row5\" >30-34</th>\n",
       "      <td id=\"T_f20e8_row5_col0\" class=\"data row5 col0\" >73</td>\n",
       "      <td id=\"T_f20e8_row5_col1\" class=\"data row5 col1\" >$2.93</td>\n",
       "      <td id=\"T_f20e8_row5_col2\" class=\"data row5 col2\" >$214.00</td>\n",
       "    </tr>\n",
       "    <tr>\n",
       "      <th id=\"T_f20e8_level0_row6\" class=\"row_heading level0 row6\" >35-39</th>\n",
       "      <td id=\"T_f20e8_row6_col0\" class=\"data row6 col0\" >41</td>\n",
       "      <td id=\"T_f20e8_row6_col1\" class=\"data row6 col1\" >$3.60</td>\n",
       "      <td id=\"T_f20e8_row6_col2\" class=\"data row6 col2\" >$147.67</td>\n",
       "    </tr>\n",
       "    <tr>\n",
       "      <th id=\"T_f20e8_level0_row7\" class=\"row_heading level0 row7\" >40+</th>\n",
       "      <td id=\"T_f20e8_row7_col0\" class=\"data row7 col0\" >13</td>\n",
       "      <td id=\"T_f20e8_row7_col1\" class=\"data row7 col1\" >$2.94</td>\n",
       "      <td id=\"T_f20e8_row7_col2\" class=\"data row7 col2\" >$38.24</td>\n",
       "    </tr>\n",
       "  </tbody>\n",
       "</table>\n"
      ],
      "text/plain": [
       "<pandas.io.formats.style.Styler at 0x113d3822910>"
      ]
     },
     "execution_count": 8,
     "metadata": {},
     "output_type": "execute_result"
    }
   ],
   "source": [
    "age_purchase_count = age_demographics[\"Purchase ID\"].count()\n",
    "age_avg_purchase_price = round(age_demographics[\"Price\"].mean(),2)\n",
    "age_total_purchase_price = age_demographics[\"Price\"].sum()\n",
    "age_avg_total_purchase_per_person = age_total_purchase_price/total_count_age\n",
    "\n",
    "age_purchase_analysis = pd.DataFrame({'Purchase Count':age_purchase_count,\n",
    "                                    'Average Purchase Price': age_avg_purchase_price,\n",
    "                                    'Total Purchase Price': age_total_purchase_price,\n",
    "                                    'Total Purchase Price': age_total_purchase_price\n",
    "    \n",
    "})\n",
    "age_purchase_analysis.style.format({\"Average Purchase Price\":\"${:.2f}\",\n",
    "                               \"Total Purchase Price\":\"${:.2f}\",\n",
    "                               \"Total Purchase Price\":\"${:.2f}\"})"
   ]
  },
  {
   "cell_type": "markdown",
   "metadata": {},
   "source": [
    "## Top Spenders"
   ]
  },
  {
   "cell_type": "markdown",
   "metadata": {},
   "source": [
    "* Run basic calculations to obtain the results in the table below\n",
    "\n",
    "\n",
    "* Create a summary data frame to hold the results\n",
    "\n",
    "\n",
    "* Sort the total purchase value column in descending order\n",
    "\n",
    "\n",
    "* Optional: give the displayed data cleaner formatting\n",
    "\n",
    "\n",
    "* Display a preview of the summary data frame\n",
    "\n"
   ]
  },
  {
   "cell_type": "code",
   "execution_count": 9,
   "metadata": {},
   "outputs": [
    {
     "data": {
      "text/html": [
       "<style type=\"text/css\">\n",
       "</style>\n",
       "<table id=\"T_a75ce\">\n",
       "  <thead>\n",
       "    <tr>\n",
       "      <th class=\"blank level0\" >&nbsp;</th>\n",
       "      <th id=\"T_a75ce_level0_col0\" class=\"col_heading level0 col0\" >Purchase Count</th>\n",
       "      <th id=\"T_a75ce_level0_col1\" class=\"col_heading level0 col1\" >Average Purchase Price</th>\n",
       "      <th id=\"T_a75ce_level0_col2\" class=\"col_heading level0 col2\" >Total Purchase Value</th>\n",
       "    </tr>\n",
       "  </thead>\n",
       "  <tbody>\n",
       "    <tr>\n",
       "      <th id=\"T_a75ce_level0_row0\" class=\"row_heading level0 row0\" >Lisosia93</th>\n",
       "      <td id=\"T_a75ce_row0_col0\" class=\"data row0 col0\" >5</td>\n",
       "      <td id=\"T_a75ce_row0_col1\" class=\"data row0 col1\" >$3.79</td>\n",
       "      <td id=\"T_a75ce_row0_col2\" class=\"data row0 col2\" >$18.96</td>\n",
       "    </tr>\n",
       "    <tr>\n",
       "      <th id=\"T_a75ce_level0_row1\" class=\"row_heading level0 row1\" >Idastidru52</th>\n",
       "      <td id=\"T_a75ce_row1_col0\" class=\"data row1 col0\" >4</td>\n",
       "      <td id=\"T_a75ce_row1_col1\" class=\"data row1 col1\" >$3.86</td>\n",
       "      <td id=\"T_a75ce_row1_col2\" class=\"data row1 col2\" >$15.45</td>\n",
       "    </tr>\n",
       "    <tr>\n",
       "      <th id=\"T_a75ce_level0_row2\" class=\"row_heading level0 row2\" >Iral74</th>\n",
       "      <td id=\"T_a75ce_row2_col0\" class=\"data row2 col0\" >4</td>\n",
       "      <td id=\"T_a75ce_row2_col1\" class=\"data row2 col1\" >$3.41</td>\n",
       "      <td id=\"T_a75ce_row2_col2\" class=\"data row2 col2\" >$13.62</td>\n",
       "    </tr>\n",
       "    <tr>\n",
       "      <th id=\"T_a75ce_level0_row3\" class=\"row_heading level0 row3\" >Chamjask73</th>\n",
       "      <td id=\"T_a75ce_row3_col0\" class=\"data row3 col0\" >3</td>\n",
       "      <td id=\"T_a75ce_row3_col1\" class=\"data row3 col1\" >$4.61</td>\n",
       "      <td id=\"T_a75ce_row3_col2\" class=\"data row3 col2\" >$13.83</td>\n",
       "    </tr>\n",
       "    <tr>\n",
       "      <th id=\"T_a75ce_level0_row4\" class=\"row_heading level0 row4\" >Iskadarya95</th>\n",
       "      <td id=\"T_a75ce_row4_col0\" class=\"data row4 col0\" >3</td>\n",
       "      <td id=\"T_a75ce_row4_col1\" class=\"data row4 col1\" >$4.37</td>\n",
       "      <td id=\"T_a75ce_row4_col2\" class=\"data row4 col2\" >$13.10</td>\n",
       "    </tr>\n",
       "  </tbody>\n",
       "</table>\n"
      ],
      "text/plain": [
       "<pandas.io.formats.style.Styler at 0x113d2983400>"
      ]
     },
     "execution_count": 9,
     "metadata": {},
     "output_type": "execute_result"
    }
   ],
   "source": [
    "top_spender_df = purchase_data.groupby('SN')\n",
    "purchase_count2 = purchase_data['SN'].value_counts()\n",
    "spender_avg_purchase_price = top_spender_df['Price'].mean()\n",
    "spender_total_purchase = top_spender_df['Price'].sum()\n",
    "top_spender_analysis = pd.DataFrame({ 'Purchase Count': purchase_count2,\n",
    "                                    'Average Purchase Price': spender_avg_purchase_price,\n",
    "                                    'Total Purchase Value': spender_total_purchase\n",
    "\n",
    "})\n",
    "top_spender_analysis.sort_values([\"Purchase Count\", \"Average Purchase Price\", \"Total Purchase Value\"], ascending=False).head(5).style.format({\"Average Purchase Price\":\"${:.2f}\",\n",
    "                                                                                            \"Total Purchase Value\": \"${:.2f}\"\n",
    "})"
   ]
  },
  {
   "cell_type": "markdown",
   "metadata": {},
   "source": [
    "## Most Popular Items"
   ]
  },
  {
   "cell_type": "markdown",
   "metadata": {},
   "source": [
    "* Retrieve the Item ID, Item Name, and Item Price columns\n",
    "\n",
    "\n",
    "* Group by Item ID and Item Name. Perform calculations to obtain purchase count, average item price, and total purchase value\n",
    "\n",
    "\n",
    "* Create a summary data frame to hold the results\n",
    "\n",
    "\n",
    "* Sort the purchase count column in descending order\n",
    "\n",
    "\n",
    "* Optional: give the displayed data cleaner formatting\n",
    "\n",
    "\n",
    "* Display a preview of the summary data frame\n",
    "\n"
   ]
  },
  {
   "cell_type": "code",
   "execution_count": 10,
   "metadata": {},
   "outputs": [
    {
     "data": {
      "text/html": [
       "<style type=\"text/css\">\n",
       "</style>\n",
       "<table id=\"T_b9ae6\">\n",
       "  <thead>\n",
       "    <tr>\n",
       "      <th class=\"blank\" >&nbsp;</th>\n",
       "      <th class=\"blank level0\" >&nbsp;</th>\n",
       "      <th id=\"T_b9ae6_level0_col0\" class=\"col_heading level0 col0\" >Purchase Count</th>\n",
       "      <th id=\"T_b9ae6_level0_col1\" class=\"col_heading level0 col1\" >Item Price</th>\n",
       "      <th id=\"T_b9ae6_level0_col2\" class=\"col_heading level0 col2\" >Total Purchase Value</th>\n",
       "    </tr>\n",
       "    <tr>\n",
       "      <th class=\"index_name level0\" >Item ID</th>\n",
       "      <th class=\"index_name level1\" >Item Name</th>\n",
       "      <th class=\"blank col0\" >&nbsp;</th>\n",
       "      <th class=\"blank col1\" >&nbsp;</th>\n",
       "      <th class=\"blank col2\" >&nbsp;</th>\n",
       "    </tr>\n",
       "  </thead>\n",
       "  <tbody>\n",
       "    <tr>\n",
       "      <th id=\"T_b9ae6_level0_row0\" class=\"row_heading level0 row0\" >92</th>\n",
       "      <th id=\"T_b9ae6_level1_row0\" class=\"row_heading level1 row0\" >Final Critic</th>\n",
       "      <td id=\"T_b9ae6_row0_col0\" class=\"data row0 col0\" >13</td>\n",
       "      <td id=\"T_b9ae6_row0_col1\" class=\"data row0 col1\" >$4.61</td>\n",
       "      <td id=\"T_b9ae6_row0_col2\" class=\"data row0 col2\" >$59.99</td>\n",
       "    </tr>\n",
       "    <tr>\n",
       "      <th id=\"T_b9ae6_level0_row1\" class=\"row_heading level0 row1\" >178</th>\n",
       "      <th id=\"T_b9ae6_level1_row1\" class=\"row_heading level1 row1\" >Oathbreaker, Last Hope of the Breaking Storm</th>\n",
       "      <td id=\"T_b9ae6_row1_col0\" class=\"data row1 col0\" >12</td>\n",
       "      <td id=\"T_b9ae6_row1_col1\" class=\"data row1 col1\" >$4.23</td>\n",
       "      <td id=\"T_b9ae6_row1_col2\" class=\"data row1 col2\" >$50.76</td>\n",
       "    </tr>\n",
       "    <tr>\n",
       "      <th id=\"T_b9ae6_level0_row2\" class=\"row_heading level0 row2\" >145</th>\n",
       "      <th id=\"T_b9ae6_level1_row2\" class=\"row_heading level1 row2\" >Fiery Glass Crusader</th>\n",
       "      <td id=\"T_b9ae6_row2_col0\" class=\"data row2 col0\" >9</td>\n",
       "      <td id=\"T_b9ae6_row2_col1\" class=\"data row2 col1\" >$4.58</td>\n",
       "      <td id=\"T_b9ae6_row2_col2\" class=\"data row2 col2\" >$41.22</td>\n",
       "    </tr>\n",
       "    <tr>\n",
       "      <th id=\"T_b9ae6_level0_row3\" class=\"row_heading level0 row3\" >132</th>\n",
       "      <th id=\"T_b9ae6_level1_row3\" class=\"row_heading level1 row3\" >Persuasion</th>\n",
       "      <td id=\"T_b9ae6_row3_col0\" class=\"data row3 col0\" >9</td>\n",
       "      <td id=\"T_b9ae6_row3_col1\" class=\"data row3 col1\" >$3.22</td>\n",
       "      <td id=\"T_b9ae6_row3_col2\" class=\"data row3 col2\" >$28.99</td>\n",
       "    </tr>\n",
       "    <tr>\n",
       "      <th id=\"T_b9ae6_level0_row4\" class=\"row_heading level0 row4\" >108</th>\n",
       "      <th id=\"T_b9ae6_level1_row4\" class=\"row_heading level1 row4\" >Extraction, Quickblade Of Trembling Hands</th>\n",
       "      <td id=\"T_b9ae6_row4_col0\" class=\"data row4 col0\" >9</td>\n",
       "      <td id=\"T_b9ae6_row4_col1\" class=\"data row4 col1\" >$3.53</td>\n",
       "      <td id=\"T_b9ae6_row4_col2\" class=\"data row4 col2\" >$31.77</td>\n",
       "    </tr>\n",
       "  </tbody>\n",
       "</table>\n"
      ],
      "text/plain": [
       "<pandas.io.formats.style.Styler at 0x113d0905460>"
      ]
     },
     "execution_count": 10,
     "metadata": {},
     "output_type": "execute_result"
    }
   ],
   "source": [
    "popular_items = purchase_data.groupby(['Item ID', 'Item Name'])\n",
    "pop_purchase_count = popular_items['Item ID'].count()\n",
    "pop_items_price = round(popular_items['Price'].mean(),2)\n",
    "pop_total_purchase = popular_items['Price'].sum()\n",
    "popular_items_analysis = pd.DataFrame({'Purchase Count': pop_purchase_count,\n",
    "                                        'Item Price': pop_items_price,\n",
    "                                        'Total Purchase Value': pop_total_purchase\n",
    "\n",
    "})\n",
    "popular_items_analysis.sort_values([\"Purchase Count\"], ascending=False).head(5).style.format({\"Item Price\":\"${:.2f}\", \"Total Purchase Value\":\"${:.2f}\"})"
   ]
  },
  {
   "cell_type": "markdown",
   "metadata": {},
   "source": [
    "## Most Profitable Items"
   ]
  },
  {
   "cell_type": "markdown",
   "metadata": {},
   "source": [
    "* Sort the above table by total purchase value in descending order\n",
    "\n",
    "\n",
    "* Optional: give the displayed data cleaner formatting\n",
    "\n",
    "\n",
    "* Display a preview of the data frame\n",
    "\n"
   ]
  },
  {
   "cell_type": "code",
   "execution_count": 11,
   "metadata": {
    "scrolled": true
   },
   "outputs": [
    {
     "data": {
      "text/html": [
       "<style type=\"text/css\">\n",
       "</style>\n",
       "<table id=\"T_b8d3c\">\n",
       "  <thead>\n",
       "    <tr>\n",
       "      <th class=\"blank\" >&nbsp;</th>\n",
       "      <th class=\"blank level0\" >&nbsp;</th>\n",
       "      <th id=\"T_b8d3c_level0_col0\" class=\"col_heading level0 col0\" >Purchase Count</th>\n",
       "      <th id=\"T_b8d3c_level0_col1\" class=\"col_heading level0 col1\" >Item Price</th>\n",
       "      <th id=\"T_b8d3c_level0_col2\" class=\"col_heading level0 col2\" >Total Purchase Value</th>\n",
       "    </tr>\n",
       "    <tr>\n",
       "      <th class=\"index_name level0\" >Item ID</th>\n",
       "      <th class=\"index_name level1\" >Item Name</th>\n",
       "      <th class=\"blank col0\" >&nbsp;</th>\n",
       "      <th class=\"blank col1\" >&nbsp;</th>\n",
       "      <th class=\"blank col2\" >&nbsp;</th>\n",
       "    </tr>\n",
       "  </thead>\n",
       "  <tbody>\n",
       "    <tr>\n",
       "      <th id=\"T_b8d3c_level0_row0\" class=\"row_heading level0 row0\" >92</th>\n",
       "      <th id=\"T_b8d3c_level1_row0\" class=\"row_heading level1 row0\" >Final Critic</th>\n",
       "      <td id=\"T_b8d3c_row0_col0\" class=\"data row0 col0\" >13</td>\n",
       "      <td id=\"T_b8d3c_row0_col1\" class=\"data row0 col1\" >$4.61</td>\n",
       "      <td id=\"T_b8d3c_row0_col2\" class=\"data row0 col2\" >$59.99</td>\n",
       "    </tr>\n",
       "    <tr>\n",
       "      <th id=\"T_b8d3c_level0_row1\" class=\"row_heading level0 row1\" >178</th>\n",
       "      <th id=\"T_b8d3c_level1_row1\" class=\"row_heading level1 row1\" >Oathbreaker, Last Hope of the Breaking Storm</th>\n",
       "      <td id=\"T_b8d3c_row1_col0\" class=\"data row1 col0\" >12</td>\n",
       "      <td id=\"T_b8d3c_row1_col1\" class=\"data row1 col1\" >$4.23</td>\n",
       "      <td id=\"T_b8d3c_row1_col2\" class=\"data row1 col2\" >$50.76</td>\n",
       "    </tr>\n",
       "    <tr>\n",
       "      <th id=\"T_b8d3c_level0_row2\" class=\"row_heading level0 row2\" >82</th>\n",
       "      <th id=\"T_b8d3c_level1_row2\" class=\"row_heading level1 row2\" >Nirvana</th>\n",
       "      <td id=\"T_b8d3c_row2_col0\" class=\"data row2 col0\" >9</td>\n",
       "      <td id=\"T_b8d3c_row2_col1\" class=\"data row2 col1\" >$4.90</td>\n",
       "      <td id=\"T_b8d3c_row2_col2\" class=\"data row2 col2\" >$44.10</td>\n",
       "    </tr>\n",
       "    <tr>\n",
       "      <th id=\"T_b8d3c_level0_row3\" class=\"row_heading level0 row3\" >145</th>\n",
       "      <th id=\"T_b8d3c_level1_row3\" class=\"row_heading level1 row3\" >Fiery Glass Crusader</th>\n",
       "      <td id=\"T_b8d3c_row3_col0\" class=\"data row3 col0\" >9</td>\n",
       "      <td id=\"T_b8d3c_row3_col1\" class=\"data row3 col1\" >$4.58</td>\n",
       "      <td id=\"T_b8d3c_row3_col2\" class=\"data row3 col2\" >$41.22</td>\n",
       "    </tr>\n",
       "    <tr>\n",
       "      <th id=\"T_b8d3c_level0_row4\" class=\"row_heading level0 row4\" >103</th>\n",
       "      <th id=\"T_b8d3c_level1_row4\" class=\"row_heading level1 row4\" >Singed Scalpel</th>\n",
       "      <td id=\"T_b8d3c_row4_col0\" class=\"data row4 col0\" >8</td>\n",
       "      <td id=\"T_b8d3c_row4_col1\" class=\"data row4 col1\" >$4.35</td>\n",
       "      <td id=\"T_b8d3c_row4_col2\" class=\"data row4 col2\" >$34.80</td>\n",
       "    </tr>\n",
       "  </tbody>\n",
       "</table>\n"
      ],
      "text/plain": [
       "<pandas.io.formats.style.Styler at 0x113d3815dc0>"
      ]
     },
     "execution_count": 11,
     "metadata": {},
     "output_type": "execute_result"
    }
   ],
   "source": [
    "popular_items_analysis.sort_values([\"Total Purchase Value\", \"Purchase Count\",\"Item Price\"], ascending=False).head(5).style.format({\"Item Price\":\"${:.2f}\", \"Total Purchase Value\":\"${:.2f}\"})"
   ]
  }
 ],
 "metadata": {
  "anaconda-cloud": {},
  "kernel_info": {
   "name": "python3"
  },
  "kernelspec": {
   "display_name": "Python 3.9.12 ('base')",
   "language": "python",
   "name": "python3"
  },
  "language_info": {
   "codemirror_mode": {
    "name": "ipython",
    "version": 3
   },
   "file_extension": ".py",
   "mimetype": "text/x-python",
   "name": "python",
   "nbconvert_exporter": "python",
   "pygments_lexer": "ipython3",
   "version": "3.9.12"
  },
  "latex_envs": {
   "LaTeX_envs_menu_present": true,
   "autoclose": false,
   "autocomplete": true,
   "bibliofile": "biblio.bib",
   "cite_by": "apalike",
   "current_citInitial": 1,
   "eqLabelWithNumbers": true,
   "eqNumInitial": 1,
   "hotkeys": {
    "equation": "Ctrl-E",
    "itemize": "Ctrl-I"
   },
   "labels_anchors": false,
   "latex_user_defs": false,
   "report_style_numbering": false,
   "user_envs_cfg": false
  },
  "nteract": {
   "version": "0.2.0"
  },
  "vscode": {
   "interpreter": {
    "hash": "c2d320883fccd77251143a8bb0b77ae9d7aa2217d825ee963aa2de2a61752f16"
   }
  }
 },
 "nbformat": 4,
 "nbformat_minor": 2
}
