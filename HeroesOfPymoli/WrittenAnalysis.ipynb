{
 "cells": [
  {
   "cell_type": "markdown",
   "metadata": {},
   "source": [
    "# Written Analysis for PyMoli\n",
    "\n",
    "Based on the analysis of purchase data, I have some conclusions that:\n",
    "\n",
    "*Male gender took part in the most purchase with 652 purchase and total amount is $1967.64 because the number of players who have male gender is 84.03%, which almost 6 times the number of female players\n",
    "\n",
    "*Age of players who bought the most was young adult with age range from 20-24 (44.79%). They made total 365 purchases and the amount is $1114.06\n",
    "\n",
    "*The top spender is belong to Lisosia93, who made 5 purchases. And the most popular item isFinal Critic with total 13 purchases and total amount is $59.99.\n"
   ]
  }
 ],
 "metadata": {
  "language_info": {
   "name": "python"
  },
  "orig_nbformat": 4
 },
 "nbformat": 4,
 "nbformat_minor": 2
}
