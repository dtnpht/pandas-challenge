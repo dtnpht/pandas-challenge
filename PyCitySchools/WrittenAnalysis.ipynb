{
 "cells": [
  {
   "cell_type": "markdown",
   "metadata": {},
   "source": [
    "# Written Analysis\n",
    "\n",
    "Based on the outcome of PyCitySchool, I have some conclusions that:\n",
    "\n",
    "*Charter School Type group is leading all the grade comparing with District school type group. The overall passing both Math and Reading is over 90% while District group is only 53.67%\n",
    "\n",
    "*About school size summary, schools have size Small(<1000) and Medium (1000-2000) has average score at Math and Reading are barely different, and those schools have a great percentage in passing both subjects. While Large size schools are almost pass the average level of overall passing percentage (58.29%)\n",
    "\n",
    "*About budget for students also have some noticeable output. The result showed that the less spending per Student, the more percentage rate to pass Math and Reading (90.37%) (when student only spend less than $585)\n",
    "\n",
    "*Final ranking, Cabrera High School is the best school after all because it has the highest percentage passing MAth and Reading with 91.33%. And also this school is Charter type and size of school is Medium size."
   ]
  }
 ],
 "metadata": {
  "kernelspec": {
   "display_name": "Python 3.9.12 ('base')",
   "language": "python",
   "name": "python3"
  },
  "language_info": {
   "name": "python",
   "version": "3.9.12"
  },
  "orig_nbformat": 4,
  "vscode": {
   "interpreter": {
    "hash": "c2d320883fccd77251143a8bb0b77ae9d7aa2217d825ee963aa2de2a61752f16"
   }
  }
 },
 "nbformat": 4,
 "nbformat_minor": 2
}
